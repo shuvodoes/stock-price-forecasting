{
  "metadata": {
    "kernelspec": {
      "name": "python",
      "display_name": "Python (Pyodide)",
      "language": "python"
    },
    "language_info": {
      "codemirror_mode": {
        "name": "python",
        "version": 3
      },
      "file_extension": ".py",
      "mimetype": "text/x-python",
      "name": "python",
      "nbconvert_exporter": "python",
      "pygments_lexer": "ipython3",
      "version": "3.8"
    }
  },
  "nbformat_minor": 5,
  "nbformat": 4,
  "cells": [
    {
      "id": "17968d47-c8fd-454e-93b1-82cbe0e8c867",
      "cell_type": "markdown",
      "source": "# Import necessary libraries",
      "metadata": {}
    },
    {
      "id": "aade3aac-3861-411f-9826-5e2b1166b171",
      "cell_type": "code",
      "source": "import pandas as pd\nfrom sklearn.preprocessing import StandardScaler\nfrom sklearn.ensemble import RandomForestRegressor\nfrom sklearn.model_selection import train_test_split\nfrom sklearn.metrics import mean_absolute_error, mean_squared_error",
      "metadata": {
        "trusted": true
      },
      "outputs": [],
      "execution_count": null
    },
    {
      "id": "5f380011-6921-4401-b6f7-a0e1ac7ed360",
      "cell_type": "markdown",
      "source": "# Load the dataset",
      "metadata": {}
    },
    {
      "id": "be50aff4-f864-444e-9b6c-d5b723bc517e",
      "cell_type": "code",
      "source": "df = pd.read_excel(\"dataset/yahoo_data.xlsx\", engine=\"openpyxl\")",
      "metadata": {
        "trusted": true
      },
      "outputs": [],
      "execution_count": null
    },
    {
      "id": "0f68a964-c4e0-468f-b2a0-3e1d0684cd3b",
      "cell_type": "markdown",
      "source": "# Feature Engineering",
      "metadata": {}
    },
    {
      "id": "f32efa76-9897-4faf-827c-4d969171fc5b",
      "cell_type": "code",
      "source": "# Build a new feature, Simple Moving Average (SMA) \ndf['SMA_10'] = df['Close*'].rolling(window=10).mean()\ndf['SMA_50'] = df['Close*'].rolling(window=50).mean()\ndf.dropna(inplace=True)\ndf['Target'] = df['Close*'].shift(-1)\ndf.dropna(inplace=True)",
      "metadata": {
        "trusted": true
      },
      "outputs": [],
      "execution_count": null
    },
    {
      "id": "e9e3997f-499a-4a2f-991c-eb60edebf823",
      "cell_type": "markdown",
      "source": "# Define Features and Target",
      "metadata": {}
    },
    {
      "id": "ba25bcea-3f40-4de6-b82f-3e3907171280",
      "cell_type": "code",
      "source": "X = df[['Open', 'High', 'Low', 'Volume', 'SMA_10', 'SMA_50']]\ny = df['Target'].values.reshape(-1, 1)",
      "metadata": {
        "trusted": true
      },
      "outputs": [],
      "execution_count": null
    },
    {
      "id": "6358b4bd-ecdb-447a-8f08-1c4565aea0fd",
      "cell_type": "markdown",
      "source": "# Feature Scaling",
      "metadata": {}
    },
    {
      "id": "e6aab9af-2e45-44f5-bb7b-e6e184b51ef7",
      "cell_type": "code",
      "source": "# Scale features\nscaler_X = StandardScaler()\nX_scaled = scaler_X.fit_transform(X)\n\n# Scale target variable\nscaler_y = StandardScaler()\ny_scaled = scaler_y.fit_transform(y)",
      "metadata": {
        "trusted": true
      },
      "outputs": [],
      "execution_count": null
    },
    {
      "id": "ecc1966f-964d-426d-9ede-9b6a0381a71c",
      "cell_type": "code",
      "source": "# Split Data\nX_train, X_test, y_train, y_test = train_test_split(X_scaled, y_scaled, test_size=0.2, random_state=42)",
      "metadata": {
        "trusted": true
      },
      "outputs": [],
      "execution_count": null
    },
    {
      "id": "ce220f1a-ecc1-452b-9a5f-b52ec3bea3e0",
      "cell_type": "code",
      "source": "# Initialize Random Forest Regressor\nmodel = RandomForestRegressor(n_estimators=100, random_state=42)",
      "metadata": {
        "trusted": true
      },
      "outputs": [],
      "execution_count": null
    },
    {
      "id": "ff51c265-8e1d-4436-a66a-3c1d0a02282b",
      "cell_type": "code",
      "source": "# Train Model\nmodel.fit(X_train, y_train)",
      "metadata": {
        "trusted": true
      },
      "outputs": [],
      "execution_count": null
    },
    {
      "id": "59ad97e7-00a9-4aa5-bd5a-6dd138db370f",
      "cell_type": "code",
      "source": "# Predict on Test Data\ny_pred = model.predict(X_test)",
      "metadata": {
        "trusted": true
      },
      "outputs": [],
      "execution_count": null
    },
    {
      "id": "3851f822-1613-4e1d-8c3d-839d0e07b252",
      "cell_type": "code",
      "source": "# Evaluate Performance\nmae = mean_absolute_error(y_test, y_pred)\nmse = mean_squared_error(y_test, y_pred)\n\nprint(f\"Mean Absolute Error (MAE): {mae}\")\nprint(f\"Mean Squared Error (MSE): {mse}\")",
      "metadata": {
        "trusted": true
      },
      "outputs": [],
      "execution_count": null
    }
  ]
}